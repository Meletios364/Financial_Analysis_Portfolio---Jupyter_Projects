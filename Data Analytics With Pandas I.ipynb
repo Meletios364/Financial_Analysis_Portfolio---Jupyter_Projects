{
 "cells": [
  {
   "cell_type": "markdown",
   "id": "dbedc627",
   "metadata": {},
   "source": [
    "# Data Analytics With Pandas I "
   ]
  },
  {
   "cell_type": "code",
   "execution_count": 1,
   "id": "d8c4a744",
   "metadata": {},
   "outputs": [],
   "source": [
    "import pandas as pd"
   ]
  },
  {
   "cell_type": "code",
   "execution_count": 2,
   "id": "f57036ed",
   "metadata": {},
   "outputs": [
    {
     "name": "stdout",
     "output_type": "stream",
     "text": [
      "[10, 20, 30, 50]\n"
     ]
    }
   ],
   "source": [
    "a = [10,20,30,50]\n",
    "print (a)"
   ]
  },
  {
   "cell_type": "code",
   "execution_count": 3,
   "id": "4eaf792d",
   "metadata": {},
   "outputs": [],
   "source": [
    "series_a = pd.Series(a)"
   ]
  },
  {
   "cell_type": "code",
   "execution_count": 4,
   "id": "34df8b8f",
   "metadata": {},
   "outputs": [
    {
     "data": {
      "text/plain": [
       "0    10\n",
       "1    20\n",
       "2    30\n",
       "3    50\n",
       "dtype: int64"
      ]
     },
     "execution_count": 4,
     "metadata": {},
     "output_type": "execute_result"
    }
   ],
   "source": [
    "series_a"
   ]
  },
  {
   "cell_type": "code",
   "execution_count": 5,
   "id": "5966eb8c",
   "metadata": {},
   "outputs": [
    {
     "data": {
      "text/plain": [
       "pandas.core.series.Series"
      ]
     },
     "execution_count": 5,
     "metadata": {},
     "output_type": "execute_result"
    }
   ],
   "source": [
    "type(series_a)"
   ]
  },
  {
   "cell_type": "code",
   "execution_count": 6,
   "id": "55b35946",
   "metadata": {},
   "outputs": [
    {
     "data": {
      "text/plain": [
       "10"
      ]
     },
     "execution_count": 6,
     "metadata": {},
     "output_type": "execute_result"
    }
   ],
   "source": [
    "series_a[0]"
   ]
  },
  {
   "cell_type": "code",
   "execution_count": 7,
   "id": "7292b330",
   "metadata": {},
   "outputs": [
    {
     "data": {
      "text/plain": [
       "1    20\n",
       "2    30\n",
       "dtype: int64"
      ]
     },
     "execution_count": 7,
     "metadata": {},
     "output_type": "execute_result"
    }
   ],
   "source": [
    "series_a[1:3]"
   ]
  },
  {
   "cell_type": "code",
   "execution_count": 8,
   "id": "8deed3ca",
   "metadata": {},
   "outputs": [],
   "source": [
    "my_index = ['mercendes','bmw','audi','vw']"
   ]
  },
  {
   "cell_type": "code",
   "execution_count": 9,
   "id": "609ba3e1",
   "metadata": {},
   "outputs": [
    {
     "name": "stdout",
     "output_type": "stream",
     "text": [
      "mercendes    10\n",
      "bmw          20\n",
      "audi         30\n",
      "vw           50\n",
      "dtype: int64\n"
     ]
    }
   ],
   "source": [
    "series_a = pd.Series (a, index = my_index)\n",
    "print (series_a)"
   ]
  },
  {
   "cell_type": "code",
   "execution_count": 10,
   "id": "5e5609e4",
   "metadata": {},
   "outputs": [
    {
     "data": {
      "text/plain": [
       "20"
      ]
     },
     "execution_count": 10,
     "metadata": {},
     "output_type": "execute_result"
    }
   ],
   "source": [
    "series_a['bmw']"
   ]
  },
  {
   "cell_type": "code",
   "execution_count": 11,
   "id": "fec17a1a",
   "metadata": {},
   "outputs": [
    {
     "data": {
      "text/plain": [
       "bmw     20\n",
       "audi    30\n",
       "dtype: int64"
      ]
     },
     "execution_count": 11,
     "metadata": {},
     "output_type": "execute_result"
    }
   ],
   "source": [
    "series_a['bmw':'audi']"
   ]
  },
  {
   "cell_type": "code",
   "execution_count": 1,
   "id": "478d98bb",
   "metadata": {},
   "outputs": [
    {
     "ename": "NameError",
     "evalue": "name 'pd' is not defined",
     "output_type": "error",
     "traceback": [
      "\u001b[1;31m---------------------------------------------------------------------------\u001b[0m",
      "\u001b[1;31mNameError\u001b[0m                                 Traceback (most recent call last)",
      "\u001b[1;32m~\\AppData\\Local\\Temp\\ipykernel_3604\\3936191730.py\u001b[0m in \u001b[0;36m<module>\u001b[1;34m\u001b[0m\n\u001b[1;32m----> 1\u001b[1;33m \u001b[0mdata\u001b[0m \u001b[1;33m=\u001b[0m \u001b[0mpd\u001b[0m\u001b[1;33m.\u001b[0m\u001b[0mread_csv\u001b[0m\u001b[1;33m(\u001b[0m\u001b[1;34m\"C:/Users/lioul/Downloads/tips.csv\"\u001b[0m\u001b[1;33m)\u001b[0m\u001b[1;33m\u001b[0m\u001b[1;33m\u001b[0m\u001b[0m\n\u001b[0m",
      "\u001b[1;31mNameError\u001b[0m: name 'pd' is not defined"
     ]
    }
   ],
   "source": [
    "data = pd.read_csv(\"C:/Users/lioul/Downloads/tips.csv\")"
   ]
  },
  {
   "cell_type": "code",
   "execution_count": 14,
   "id": "062d1614",
   "metadata": {},
   "outputs": [
    {
     "data": {
      "text/plain": [
       "(244, 7)"
      ]
     },
     "execution_count": 14,
     "metadata": {},
     "output_type": "execute_result"
    }
   ],
   "source": [
    "### ΠΟΣΕΣ ΓΡΑΜΜΕΣ ΚΑΙ ΠΟΣΕΣ ΣΤΗΛΕΣ ΕΧΕΙ ΤΟ ΑΡΧΕΙΟ\n",
    "\n",
    "data.shape"
   ]
  },
  {
   "cell_type": "code",
   "execution_count": 15,
   "id": "1526de16",
   "metadata": {},
   "outputs": [
    {
     "data": {
      "text/html": [
       "<div>\n",
       "<style scoped>\n",
       "    .dataframe tbody tr th:only-of-type {\n",
       "        vertical-align: middle;\n",
       "    }\n",
       "\n",
       "    .dataframe tbody tr th {\n",
       "        vertical-align: top;\n",
       "    }\n",
       "\n",
       "    .dataframe thead th {\n",
       "        text-align: right;\n",
       "    }\n",
       "</style>\n",
       "<table border=\"1\" class=\"dataframe\">\n",
       "  <thead>\n",
       "    <tr style=\"text-align: right;\">\n",
       "      <th></th>\n",
       "      <th>total_bill</th>\n",
       "      <th>tip</th>\n",
       "      <th>sex</th>\n",
       "      <th>smoker</th>\n",
       "      <th>day</th>\n",
       "      <th>time</th>\n",
       "      <th>size</th>\n",
       "    </tr>\n",
       "  </thead>\n",
       "  <tbody>\n",
       "    <tr>\n",
       "      <th>0</th>\n",
       "      <td>16.99</td>\n",
       "      <td>1.01</td>\n",
       "      <td>Female</td>\n",
       "      <td>No</td>\n",
       "      <td>Sun</td>\n",
       "      <td>Dinner</td>\n",
       "      <td>2</td>\n",
       "    </tr>\n",
       "    <tr>\n",
       "      <th>1</th>\n",
       "      <td>10.34</td>\n",
       "      <td>1.66</td>\n",
       "      <td>Male</td>\n",
       "      <td>No</td>\n",
       "      <td>Sun</td>\n",
       "      <td>Dinner</td>\n",
       "      <td>3</td>\n",
       "    </tr>\n",
       "    <tr>\n",
       "      <th>2</th>\n",
       "      <td>21.01</td>\n",
       "      <td>3.50</td>\n",
       "      <td>Male</td>\n",
       "      <td>No</td>\n",
       "      <td>Sun</td>\n",
       "      <td>Dinner</td>\n",
       "      <td>3</td>\n",
       "    </tr>\n",
       "    <tr>\n",
       "      <th>3</th>\n",
       "      <td>23.68</td>\n",
       "      <td>3.31</td>\n",
       "      <td>Male</td>\n",
       "      <td>No</td>\n",
       "      <td>Sun</td>\n",
       "      <td>Dinner</td>\n",
       "      <td>2</td>\n",
       "    </tr>\n",
       "    <tr>\n",
       "      <th>4</th>\n",
       "      <td>24.59</td>\n",
       "      <td>3.61</td>\n",
       "      <td>Female</td>\n",
       "      <td>No</td>\n",
       "      <td>Sun</td>\n",
       "      <td>Dinner</td>\n",
       "      <td>4</td>\n",
       "    </tr>\n",
       "    <tr>\n",
       "      <th>...</th>\n",
       "      <td>...</td>\n",
       "      <td>...</td>\n",
       "      <td>...</td>\n",
       "      <td>...</td>\n",
       "      <td>...</td>\n",
       "      <td>...</td>\n",
       "      <td>...</td>\n",
       "    </tr>\n",
       "    <tr>\n",
       "      <th>239</th>\n",
       "      <td>29.03</td>\n",
       "      <td>5.92</td>\n",
       "      <td>Male</td>\n",
       "      <td>No</td>\n",
       "      <td>Sat</td>\n",
       "      <td>Dinner</td>\n",
       "      <td>3</td>\n",
       "    </tr>\n",
       "    <tr>\n",
       "      <th>240</th>\n",
       "      <td>27.18</td>\n",
       "      <td>2.00</td>\n",
       "      <td>Female</td>\n",
       "      <td>Yes</td>\n",
       "      <td>Sat</td>\n",
       "      <td>Dinner</td>\n",
       "      <td>2</td>\n",
       "    </tr>\n",
       "    <tr>\n",
       "      <th>241</th>\n",
       "      <td>22.67</td>\n",
       "      <td>2.00</td>\n",
       "      <td>Male</td>\n",
       "      <td>Yes</td>\n",
       "      <td>Sat</td>\n",
       "      <td>Dinner</td>\n",
       "      <td>2</td>\n",
       "    </tr>\n",
       "    <tr>\n",
       "      <th>242</th>\n",
       "      <td>17.82</td>\n",
       "      <td>1.75</td>\n",
       "      <td>Male</td>\n",
       "      <td>No</td>\n",
       "      <td>Sat</td>\n",
       "      <td>Dinner</td>\n",
       "      <td>2</td>\n",
       "    </tr>\n",
       "    <tr>\n",
       "      <th>243</th>\n",
       "      <td>18.78</td>\n",
       "      <td>3.00</td>\n",
       "      <td>Female</td>\n",
       "      <td>No</td>\n",
       "      <td>Thur</td>\n",
       "      <td>Dinner</td>\n",
       "      <td>2</td>\n",
       "    </tr>\n",
       "  </tbody>\n",
       "</table>\n",
       "<p>244 rows × 7 columns</p>\n",
       "</div>"
      ],
      "text/plain": [
       "     total_bill   tip     sex smoker   day    time  size\n",
       "0         16.99  1.01  Female     No   Sun  Dinner     2\n",
       "1         10.34  1.66    Male     No   Sun  Dinner     3\n",
       "2         21.01  3.50    Male     No   Sun  Dinner     3\n",
       "3         23.68  3.31    Male     No   Sun  Dinner     2\n",
       "4         24.59  3.61  Female     No   Sun  Dinner     4\n",
       "..          ...   ...     ...    ...   ...     ...   ...\n",
       "239       29.03  5.92    Male     No   Sat  Dinner     3\n",
       "240       27.18  2.00  Female    Yes   Sat  Dinner     2\n",
       "241       22.67  2.00    Male    Yes   Sat  Dinner     2\n",
       "242       17.82  1.75    Male     No   Sat  Dinner     2\n",
       "243       18.78  3.00  Female     No  Thur  Dinner     2\n",
       "\n",
       "[244 rows x 7 columns]"
      ]
     },
     "execution_count": 15,
     "metadata": {},
     "output_type": "execute_result"
    }
   ],
   "source": [
    "data"
   ]
  },
  {
   "cell_type": "code",
   "execution_count": 16,
   "id": "a9251464",
   "metadata": {},
   "outputs": [
    {
     "data": {
      "text/plain": [
       "'Thur'"
      ]
     },
     "execution_count": 16,
     "metadata": {},
     "output_type": "execute_result"
    }
   ],
   "source": [
    "data.iloc[200,4]"
   ]
  },
  {
   "cell_type": "code",
   "execution_count": 21,
   "id": "09acd2dd",
   "metadata": {},
   "outputs": [
    {
     "data": {
      "text/plain": [
       "tip    1.71\n",
       "sex    Male\n",
       "Name: 10, dtype: object"
      ]
     },
     "execution_count": 21,
     "metadata": {},
     "output_type": "execute_result"
    }
   ],
   "source": [
    "data.loc[10,['tip','sex']]"
   ]
  },
  {
   "cell_type": "code",
   "execution_count": 23,
   "id": "be7f4bd5",
   "metadata": {},
   "outputs": [
    {
     "data": {
      "text/html": [
       "<div>\n",
       "<style scoped>\n",
       "    .dataframe tbody tr th:only-of-type {\n",
       "        vertical-align: middle;\n",
       "    }\n",
       "\n",
       "    .dataframe tbody tr th {\n",
       "        vertical-align: top;\n",
       "    }\n",
       "\n",
       "    .dataframe thead th {\n",
       "        text-align: right;\n",
       "    }\n",
       "</style>\n",
       "<table border=\"1\" class=\"dataframe\">\n",
       "  <thead>\n",
       "    <tr style=\"text-align: right;\">\n",
       "      <th></th>\n",
       "      <th>total_bill</th>\n",
       "      <th>tip</th>\n",
       "      <th>size</th>\n",
       "    </tr>\n",
       "  </thead>\n",
       "  <tbody>\n",
       "    <tr>\n",
       "      <th>count</th>\n",
       "      <td>244.000000</td>\n",
       "      <td>244.000000</td>\n",
       "      <td>244.000000</td>\n",
       "    </tr>\n",
       "    <tr>\n",
       "      <th>mean</th>\n",
       "      <td>19.785943</td>\n",
       "      <td>2.998279</td>\n",
       "      <td>2.569672</td>\n",
       "    </tr>\n",
       "    <tr>\n",
       "      <th>std</th>\n",
       "      <td>8.902412</td>\n",
       "      <td>1.383638</td>\n",
       "      <td>0.951100</td>\n",
       "    </tr>\n",
       "    <tr>\n",
       "      <th>min</th>\n",
       "      <td>3.070000</td>\n",
       "      <td>1.000000</td>\n",
       "      <td>1.000000</td>\n",
       "    </tr>\n",
       "    <tr>\n",
       "      <th>25%</th>\n",
       "      <td>13.347500</td>\n",
       "      <td>2.000000</td>\n",
       "      <td>2.000000</td>\n",
       "    </tr>\n",
       "    <tr>\n",
       "      <th>50%</th>\n",
       "      <td>17.795000</td>\n",
       "      <td>2.900000</td>\n",
       "      <td>2.000000</td>\n",
       "    </tr>\n",
       "    <tr>\n",
       "      <th>75%</th>\n",
       "      <td>24.127500</td>\n",
       "      <td>3.562500</td>\n",
       "      <td>3.000000</td>\n",
       "    </tr>\n",
       "    <tr>\n",
       "      <th>max</th>\n",
       "      <td>50.810000</td>\n",
       "      <td>10.000000</td>\n",
       "      <td>6.000000</td>\n",
       "    </tr>\n",
       "  </tbody>\n",
       "</table>\n",
       "</div>"
      ],
      "text/plain": [
       "       total_bill         tip        size\n",
       "count  244.000000  244.000000  244.000000\n",
       "mean    19.785943    2.998279    2.569672\n",
       "std      8.902412    1.383638    0.951100\n",
       "min      3.070000    1.000000    1.000000\n",
       "25%     13.347500    2.000000    2.000000\n",
       "50%     17.795000    2.900000    2.000000\n",
       "75%     24.127500    3.562500    3.000000\n",
       "max     50.810000   10.000000    6.000000"
      ]
     },
     "execution_count": 23,
     "metadata": {},
     "output_type": "execute_result"
    }
   ],
   "source": [
    "data.describe()"
   ]
  },
  {
   "cell_type": "code",
   "execution_count": 25,
   "id": "75347266",
   "metadata": {},
   "outputs": [
    {
     "data": {
      "text/plain": [
       "count    244.000000\n",
       "mean       2.998279\n",
       "std        1.383638\n",
       "min        1.000000\n",
       "25%        2.000000\n",
       "50%        2.900000\n",
       "75%        3.562500\n",
       "max       10.000000\n",
       "Name: tip, dtype: float64"
      ]
     },
     "execution_count": 25,
     "metadata": {},
     "output_type": "execute_result"
    }
   ],
   "source": [
    "data['tip'].describe()"
   ]
  },
  {
   "cell_type": "code",
   "execution_count": 26,
   "id": "515d40ca",
   "metadata": {},
   "outputs": [],
   "source": [
    "### ΑΝ ΘΕΛΩ ΝΑ ΔΗΜΙΟΥΡΓΗΣΩ ΜΕΤΑΒΛΗΤΗ\n",
    "\n",
    "data['total_per_person'] = data['total_bill']/data['size']"
   ]
  },
  {
   "cell_type": "code",
   "execution_count": 27,
   "id": "36855580",
   "metadata": {},
   "outputs": [
    {
     "data": {
      "text/html": [
       "<div>\n",
       "<style scoped>\n",
       "    .dataframe tbody tr th:only-of-type {\n",
       "        vertical-align: middle;\n",
       "    }\n",
       "\n",
       "    .dataframe tbody tr th {\n",
       "        vertical-align: top;\n",
       "    }\n",
       "\n",
       "    .dataframe thead th {\n",
       "        text-align: right;\n",
       "    }\n",
       "</style>\n",
       "<table border=\"1\" class=\"dataframe\">\n",
       "  <thead>\n",
       "    <tr style=\"text-align: right;\">\n",
       "      <th></th>\n",
       "      <th>total_bill</th>\n",
       "      <th>tip</th>\n",
       "      <th>sex</th>\n",
       "      <th>smoker</th>\n",
       "      <th>day</th>\n",
       "      <th>time</th>\n",
       "      <th>size</th>\n",
       "      <th>total_per_person</th>\n",
       "    </tr>\n",
       "  </thead>\n",
       "  <tbody>\n",
       "    <tr>\n",
       "      <th>0</th>\n",
       "      <td>16.99</td>\n",
       "      <td>1.01</td>\n",
       "      <td>Female</td>\n",
       "      <td>No</td>\n",
       "      <td>Sun</td>\n",
       "      <td>Dinner</td>\n",
       "      <td>2</td>\n",
       "      <td>8.495000</td>\n",
       "    </tr>\n",
       "    <tr>\n",
       "      <th>1</th>\n",
       "      <td>10.34</td>\n",
       "      <td>1.66</td>\n",
       "      <td>Male</td>\n",
       "      <td>No</td>\n",
       "      <td>Sun</td>\n",
       "      <td>Dinner</td>\n",
       "      <td>3</td>\n",
       "      <td>3.446667</td>\n",
       "    </tr>\n",
       "    <tr>\n",
       "      <th>2</th>\n",
       "      <td>21.01</td>\n",
       "      <td>3.50</td>\n",
       "      <td>Male</td>\n",
       "      <td>No</td>\n",
       "      <td>Sun</td>\n",
       "      <td>Dinner</td>\n",
       "      <td>3</td>\n",
       "      <td>7.003333</td>\n",
       "    </tr>\n",
       "    <tr>\n",
       "      <th>3</th>\n",
       "      <td>23.68</td>\n",
       "      <td>3.31</td>\n",
       "      <td>Male</td>\n",
       "      <td>No</td>\n",
       "      <td>Sun</td>\n",
       "      <td>Dinner</td>\n",
       "      <td>2</td>\n",
       "      <td>11.840000</td>\n",
       "    </tr>\n",
       "    <tr>\n",
       "      <th>4</th>\n",
       "      <td>24.59</td>\n",
       "      <td>3.61</td>\n",
       "      <td>Female</td>\n",
       "      <td>No</td>\n",
       "      <td>Sun</td>\n",
       "      <td>Dinner</td>\n",
       "      <td>4</td>\n",
       "      <td>6.147500</td>\n",
       "    </tr>\n",
       "  </tbody>\n",
       "</table>\n",
       "</div>"
      ],
      "text/plain": [
       "   total_bill   tip     sex smoker  day    time  size  total_per_person\n",
       "0       16.99  1.01  Female     No  Sun  Dinner     2          8.495000\n",
       "1       10.34  1.66    Male     No  Sun  Dinner     3          3.446667\n",
       "2       21.01  3.50    Male     No  Sun  Dinner     3          7.003333\n",
       "3       23.68  3.31    Male     No  Sun  Dinner     2         11.840000\n",
       "4       24.59  3.61  Female     No  Sun  Dinner     4          6.147500"
      ]
     },
     "execution_count": 27,
     "metadata": {},
     "output_type": "execute_result"
    }
   ],
   "source": [
    "data.head()"
   ]
  },
  {
   "cell_type": "code",
   "execution_count": 28,
   "id": "257c3444",
   "metadata": {},
   "outputs": [],
   "source": [
    "### ΑΝ ΘΕΛΩ ΝΑ ΑΛΛΑΞΩ ΤΟ ΟΝΟΜΑ ΤΗΣ ΜΕΤΑΒΛΗΤΗΣ \n",
    "\n",
    "data.rename(columns = {'total_bill' : 'bill' }, inplace = True)"
   ]
  },
  {
   "cell_type": "markdown",
   "id": "ec7c53a7",
   "metadata": {},
   "source": [
    "### IN CLASS EXERCISES "
   ]
  },
  {
   "cell_type": "markdown",
   "id": "86c71cd3",
   "metadata": {},
   "source": [
    "####  1. Import Pandas library"
   ]
  },
  {
   "cell_type": "code",
   "execution_count": 38,
   "id": "a69e24eb",
   "metadata": {},
   "outputs": [],
   "source": [
    "import pandas as pd"
   ]
  },
  {
   "cell_type": "markdown",
   "id": "55f05f88",
   "metadata": {},
   "source": [
    "#### 2. Open the csv file with Pandas"
   ]
  },
  {
   "cell_type": "code",
   "execution_count": 39,
   "id": "3c6124a4",
   "metadata": {},
   "outputs": [],
   "source": [
    "data = pd.read_csv('C:/Users/lioul/Downloads/car_insurance.csv')"
   ]
  },
  {
   "cell_type": "markdown",
   "id": "af9cd4ec",
   "metadata": {},
   "source": [
    "#### 5.What is the shape of the dataframe?\n"
   ]
  },
  {
   "cell_type": "code",
   "execution_count": 33,
   "id": "50a9b225",
   "metadata": {},
   "outputs": [
    {
     "data": {
      "text/plain": [
       "(58578, 11)"
      ]
     },
     "execution_count": 33,
     "metadata": {},
     "output_type": "execute_result"
    }
   ],
   "source": [
    "data.shape"
   ]
  },
  {
   "cell_type": "code",
   "execution_count": 58,
   "id": "7a44698c",
   "metadata": {},
   "outputs": [
    {
     "data": {
      "text/html": [
       "<div>\n",
       "<style scoped>\n",
       "    .dataframe tbody tr th:only-of-type {\n",
       "        vertical-align: middle;\n",
       "    }\n",
       "\n",
       "    .dataframe tbody tr th {\n",
       "        vertical-align: top;\n",
       "    }\n",
       "\n",
       "    .dataframe thead th {\n",
       "        text-align: right;\n",
       "    }\n",
       "</style>\n",
       "<table border=\"1\" class=\"dataframe\">\n",
       "  <thead>\n",
       "    <tr style=\"text-align: right;\">\n",
       "      <th></th>\n",
       "      <th>policy_id</th>\n",
       "      <th>policy_tenure</th>\n",
       "      <th>age_of_car</th>\n",
       "      <th>age_of_policyholder</th>\n",
       "      <th>area_cluster</th>\n",
       "      <th>population_density</th>\n",
       "      <th>fuel_type</th>\n",
       "      <th>max_power</th>\n",
       "      <th>transmission_type</th>\n",
       "      <th>gross_weight</th>\n",
       "      <th>ncap_rating</th>\n",
       "    </tr>\n",
       "  </thead>\n",
       "  <tbody>\n",
       "    <tr>\n",
       "      <th>0</th>\n",
       "      <td>ID00001</td>\n",
       "      <td>0.515874</td>\n",
       "      <td>5.0</td>\n",
       "      <td>45</td>\n",
       "      <td>C1</td>\n",
       "      <td>4990</td>\n",
       "      <td>CNG</td>\n",
       "      <td>40</td>\n",
       "      <td>Manual</td>\n",
       "      <td>1185</td>\n",
       "      <td>0</td>\n",
       "    </tr>\n",
       "    <tr>\n",
       "      <th>1</th>\n",
       "      <td>ID00002</td>\n",
       "      <td>0.672619</td>\n",
       "      <td>2.0</td>\n",
       "      <td>26</td>\n",
       "      <td>C2</td>\n",
       "      <td>27003</td>\n",
       "      <td>CNG</td>\n",
       "      <td>40</td>\n",
       "      <td>Manual</td>\n",
       "      <td>1185</td>\n",
       "      <td>0</td>\n",
       "    </tr>\n",
       "    <tr>\n",
       "      <th>2</th>\n",
       "      <td>ID00003</td>\n",
       "      <td>0.841110</td>\n",
       "      <td>2.0</td>\n",
       "      <td>27</td>\n",
       "      <td>C3</td>\n",
       "      <td>4076</td>\n",
       "      <td>CNG</td>\n",
       "      <td>40</td>\n",
       "      <td>Manual</td>\n",
       "      <td>1185</td>\n",
       "      <td>0</td>\n",
       "    </tr>\n",
       "    <tr>\n",
       "      <th>3</th>\n",
       "      <td>ID00004</td>\n",
       "      <td>0.900277</td>\n",
       "      <td>11.0</td>\n",
       "      <td>30</td>\n",
       "      <td>C4</td>\n",
       "      <td>21622</td>\n",
       "      <td>Petrol</td>\n",
       "      <td>88</td>\n",
       "      <td>Automatic</td>\n",
       "      <td>1335</td>\n",
       "      <td>2</td>\n",
       "    </tr>\n",
       "    <tr>\n",
       "      <th>4</th>\n",
       "      <td>ID00005</td>\n",
       "      <td>0.596403</td>\n",
       "      <td>11.0</td>\n",
       "      <td>45</td>\n",
       "      <td>C5</td>\n",
       "      <td>34738</td>\n",
       "      <td>Petrol</td>\n",
       "      <td>67</td>\n",
       "      <td>Automatic</td>\n",
       "      <td>1155</td>\n",
       "      <td>2</td>\n",
       "    </tr>\n",
       "  </tbody>\n",
       "</table>\n",
       "</div>"
      ],
      "text/plain": [
       "  policy_id  policy_tenure  age_of_car  age_of_policyholder area_cluster  \\\n",
       "0   ID00001       0.515874         5.0                   45           C1   \n",
       "1   ID00002       0.672619         2.0                   26           C2   \n",
       "2   ID00003       0.841110         2.0                   27           C3   \n",
       "3   ID00004       0.900277        11.0                   30           C4   \n",
       "4   ID00005       0.596403        11.0                   45           C5   \n",
       "\n",
       "   population_density fuel_type  max_power transmission_type  gross_weight  \\\n",
       "0                4990       CNG         40            Manual          1185   \n",
       "1               27003       CNG         40            Manual          1185   \n",
       "2                4076       CNG         40            Manual          1185   \n",
       "3               21622    Petrol         88         Automatic          1335   \n",
       "4               34738    Petrol         67         Automatic          1155   \n",
       "\n",
       "   ncap_rating  \n",
       "0            0  \n",
       "1            0  \n",
       "2            0  \n",
       "3            2  \n",
       "4            2  "
      ]
     },
     "execution_count": 58,
     "metadata": {},
     "output_type": "execute_result"
    }
   ],
   "source": [
    "data.head()"
   ]
  },
  {
   "cell_type": "markdown",
   "id": "96df5bc9",
   "metadata": {},
   "source": [
    "#### 6. What are the column data types?"
   ]
  },
  {
   "cell_type": "code",
   "execution_count": 41,
   "id": "49d8d366",
   "metadata": {},
   "outputs": [
    {
     "data": {
      "text/plain": [
       "Index(['policy_id', 'policy_tenure', 'age_of_car', 'age_of_policyholder',\n",
       "       'area_cluster', 'population_density', 'fuel_type', 'max_power',\n",
       "       'transmission_type', 'gross_weight', 'ncap_rating'],\n",
       "      dtype='object')"
      ]
     },
     "execution_count": 41,
     "metadata": {},
     "output_type": "execute_result"
    }
   ],
   "source": [
    "data.columns"
   ]
  },
  {
   "cell_type": "code",
   "execution_count": 35,
   "id": "101d17c2",
   "metadata": {},
   "outputs": [
    {
     "data": {
      "text/html": [
       "<div>\n",
       "<style scoped>\n",
       "    .dataframe tbody tr th:only-of-type {\n",
       "        vertical-align: middle;\n",
       "    }\n",
       "\n",
       "    .dataframe tbody tr th {\n",
       "        vertical-align: top;\n",
       "    }\n",
       "\n",
       "    .dataframe thead th {\n",
       "        text-align: right;\n",
       "    }\n",
       "</style>\n",
       "<table border=\"1\" class=\"dataframe\">\n",
       "  <thead>\n",
       "    <tr style=\"text-align: right;\">\n",
       "      <th></th>\n",
       "      <th>policy_id</th>\n",
       "      <th>policy_tenure</th>\n",
       "      <th>age_of_car</th>\n",
       "      <th>age_of_policyholder</th>\n",
       "      <th>area_cluster</th>\n",
       "      <th>population_density</th>\n",
       "      <th>fuel_type</th>\n",
       "      <th>max_power</th>\n",
       "      <th>transmission_type</th>\n",
       "      <th>gross_weight</th>\n",
       "      <th>ncap_rating</th>\n",
       "    </tr>\n",
       "  </thead>\n",
       "  <tbody>\n",
       "    <tr>\n",
       "      <th>0</th>\n",
       "      <td>ID00001</td>\n",
       "      <td>0.515874</td>\n",
       "      <td>5.0</td>\n",
       "      <td>45</td>\n",
       "      <td>C1</td>\n",
       "      <td>4990</td>\n",
       "      <td>CNG</td>\n",
       "      <td>40</td>\n",
       "      <td>Manual</td>\n",
       "      <td>1185</td>\n",
       "      <td>0</td>\n",
       "    </tr>\n",
       "    <tr>\n",
       "      <th>1</th>\n",
       "      <td>ID00002</td>\n",
       "      <td>0.672619</td>\n",
       "      <td>2.0</td>\n",
       "      <td>26</td>\n",
       "      <td>C2</td>\n",
       "      <td>27003</td>\n",
       "      <td>CNG</td>\n",
       "      <td>40</td>\n",
       "      <td>Manual</td>\n",
       "      <td>1185</td>\n",
       "      <td>0</td>\n",
       "    </tr>\n",
       "    <tr>\n",
       "      <th>2</th>\n",
       "      <td>ID00003</td>\n",
       "      <td>0.841110</td>\n",
       "      <td>2.0</td>\n",
       "      <td>27</td>\n",
       "      <td>C3</td>\n",
       "      <td>4076</td>\n",
       "      <td>CNG</td>\n",
       "      <td>40</td>\n",
       "      <td>Manual</td>\n",
       "      <td>1185</td>\n",
       "      <td>0</td>\n",
       "    </tr>\n",
       "    <tr>\n",
       "      <th>3</th>\n",
       "      <td>ID00004</td>\n",
       "      <td>0.900277</td>\n",
       "      <td>11.0</td>\n",
       "      <td>30</td>\n",
       "      <td>C4</td>\n",
       "      <td>21622</td>\n",
       "      <td>Petrol</td>\n",
       "      <td>88</td>\n",
       "      <td>Automatic</td>\n",
       "      <td>1335</td>\n",
       "      <td>2</td>\n",
       "    </tr>\n",
       "    <tr>\n",
       "      <th>4</th>\n",
       "      <td>ID00005</td>\n",
       "      <td>0.596403</td>\n",
       "      <td>11.0</td>\n",
       "      <td>45</td>\n",
       "      <td>C5</td>\n",
       "      <td>34738</td>\n",
       "      <td>Petrol</td>\n",
       "      <td>67</td>\n",
       "      <td>Automatic</td>\n",
       "      <td>1155</td>\n",
       "      <td>2</td>\n",
       "    </tr>\n",
       "    <tr>\n",
       "      <th>...</th>\n",
       "      <td>...</td>\n",
       "      <td>...</td>\n",
       "      <td>...</td>\n",
       "      <td>...</td>\n",
       "      <td>...</td>\n",
       "      <td>...</td>\n",
       "      <td>...</td>\n",
       "      <td>...</td>\n",
       "      <td>...</td>\n",
       "      <td>...</td>\n",
       "      <td>...</td>\n",
       "    </tr>\n",
       "    <tr>\n",
       "      <th>58573</th>\n",
       "      <td>ID58588</td>\n",
       "      <td>0.355089</td>\n",
       "      <td>13.0</td>\n",
       "      <td>45</td>\n",
       "      <td>C8</td>\n",
       "      <td>8794</td>\n",
       "      <td>Petrol</td>\n",
       "      <td>67</td>\n",
       "      <td>Automatic</td>\n",
       "      <td>1155</td>\n",
       "      <td>2</td>\n",
       "    </tr>\n",
       "    <tr>\n",
       "      <th>58574</th>\n",
       "      <td>ID58589</td>\n",
       "      <td>1.199642</td>\n",
       "      <td>2.0</td>\n",
       "      <td>36</td>\n",
       "      <td>C14</td>\n",
       "      <td>7788</td>\n",
       "      <td>CNG</td>\n",
       "      <td>40</td>\n",
       "      <td>Manual</td>\n",
       "      <td>1185</td>\n",
       "      <td>0</td>\n",
       "    </tr>\n",
       "    <tr>\n",
       "      <th>58575</th>\n",
       "      <td>ID58590</td>\n",
       "      <td>1.162273</td>\n",
       "      <td>5.0</td>\n",
       "      <td>32</td>\n",
       "      <td>C5</td>\n",
       "      <td>34738</td>\n",
       "      <td>CNG</td>\n",
       "      <td>40</td>\n",
       "      <td>Manual</td>\n",
       "      <td>1185</td>\n",
       "      <td>0</td>\n",
       "    </tr>\n",
       "    <tr>\n",
       "      <th>58576</th>\n",
       "      <td>ID58591</td>\n",
       "      <td>1.236307</td>\n",
       "      <td>14.0</td>\n",
       "      <td>39</td>\n",
       "      <td>C8</td>\n",
       "      <td>8794</td>\n",
       "      <td>Petrol</td>\n",
       "      <td>88</td>\n",
       "      <td>Manual</td>\n",
       "      <td>1335</td>\n",
       "      <td>2</td>\n",
       "    </tr>\n",
       "    <tr>\n",
       "      <th>58577</th>\n",
       "      <td>ID58592</td>\n",
       "      <td>0.124429</td>\n",
       "      <td>2.0</td>\n",
       "      <td>31</td>\n",
       "      <td>C8</td>\n",
       "      <td>8794</td>\n",
       "      <td>Diesel</td>\n",
       "      <td>113</td>\n",
       "      <td>Automatic</td>\n",
       "      <td>1720</td>\n",
       "      <td>3</td>\n",
       "    </tr>\n",
       "  </tbody>\n",
       "</table>\n",
       "<p>58578 rows × 11 columns</p>\n",
       "</div>"
      ],
      "text/plain": [
       "      policy_id  policy_tenure  age_of_car  age_of_policyholder area_cluster  \\\n",
       "0       ID00001       0.515874         5.0                   45           C1   \n",
       "1       ID00002       0.672619         2.0                   26           C2   \n",
       "2       ID00003       0.841110         2.0                   27           C3   \n",
       "3       ID00004       0.900277        11.0                   30           C4   \n",
       "4       ID00005       0.596403        11.0                   45           C5   \n",
       "...         ...            ...         ...                  ...          ...   \n",
       "58573   ID58588       0.355089        13.0                   45           C8   \n",
       "58574   ID58589       1.199642         2.0                   36          C14   \n",
       "58575   ID58590       1.162273         5.0                   32           C5   \n",
       "58576   ID58591       1.236307        14.0                   39           C8   \n",
       "58577   ID58592       0.124429         2.0                   31           C8   \n",
       "\n",
       "       population_density fuel_type  max_power transmission_type  \\\n",
       "0                    4990       CNG         40            Manual   \n",
       "1                   27003       CNG         40            Manual   \n",
       "2                    4076       CNG         40            Manual   \n",
       "3                   21622    Petrol         88         Automatic   \n",
       "4                   34738    Petrol         67         Automatic   \n",
       "...                   ...       ...        ...               ...   \n",
       "58573                8794    Petrol         67         Automatic   \n",
       "58574                7788       CNG         40            Manual   \n",
       "58575               34738       CNG         40            Manual   \n",
       "58576                8794    Petrol         88            Manual   \n",
       "58577                8794    Diesel        113         Automatic   \n",
       "\n",
       "       gross_weight  ncap_rating  \n",
       "0              1185            0  \n",
       "1              1185            0  \n",
       "2              1185            0  \n",
       "3              1335            2  \n",
       "4              1155            2  \n",
       "...             ...          ...  \n",
       "58573          1155            2  \n",
       "58574          1185            0  \n",
       "58575          1185            0  \n",
       "58576          1335            2  \n",
       "58577          1720            3  \n",
       "\n",
       "[58578 rows x 11 columns]"
      ]
     },
     "execution_count": 35,
     "metadata": {},
     "output_type": "execute_result"
    }
   ],
   "source": [
    "data"
   ]
  },
  {
   "cell_type": "code",
   "execution_count": 52,
   "id": "af79852e",
   "metadata": {},
   "outputs": [
    {
     "data": {
      "text/html": [
       "<div>\n",
       "<style scoped>\n",
       "    .dataframe tbody tr th:only-of-type {\n",
       "        vertical-align: middle;\n",
       "    }\n",
       "\n",
       "    .dataframe tbody tr th {\n",
       "        vertical-align: top;\n",
       "    }\n",
       "\n",
       "    .dataframe thead th {\n",
       "        text-align: right;\n",
       "    }\n",
       "</style>\n",
       "<table border=\"1\" class=\"dataframe\">\n",
       "  <thead>\n",
       "    <tr style=\"text-align: right;\">\n",
       "      <th></th>\n",
       "      <th>policy_tenure</th>\n",
       "      <th>age_of_car</th>\n",
       "      <th>age_of_policyholder</th>\n",
       "      <th>population_density</th>\n",
       "      <th>max_power</th>\n",
       "      <th>gross_weight</th>\n",
       "      <th>ncap_rating</th>\n",
       "    </tr>\n",
       "  </thead>\n",
       "  <tbody>\n",
       "    <tr>\n",
       "      <th>count</th>\n",
       "      <td>58578.000000</td>\n",
       "      <td>58578.000000</td>\n",
       "      <td>58578.000000</td>\n",
       "      <td>58578.000000</td>\n",
       "      <td>58578.000000</td>\n",
       "      <td>58578.000000</td>\n",
       "      <td>58578.000000</td>\n",
       "    </tr>\n",
       "    <tr>\n",
       "      <th>mean</th>\n",
       "      <td>0.611171</td>\n",
       "      <td>6.928830</td>\n",
       "      <td>32.816091</td>\n",
       "      <td>18829.204223</td>\n",
       "      <td>78.486206</td>\n",
       "      <td>1385.248711</td>\n",
       "      <td>1.759859</td>\n",
       "    </tr>\n",
       "    <tr>\n",
       "      <th>std</th>\n",
       "      <td>0.414156</td>\n",
       "      <td>5.593719</td>\n",
       "      <td>8.741687</td>\n",
       "      <td>17661.269782</td>\n",
       "      <td>27.673487</td>\n",
       "      <td>212.418667</td>\n",
       "      <td>1.389646</td>\n",
       "    </tr>\n",
       "    <tr>\n",
       "      <th>min</th>\n",
       "      <td>0.002735</td>\n",
       "      <td>0.000000</td>\n",
       "      <td>20.000000</td>\n",
       "      <td>290.000000</td>\n",
       "      <td>40.000000</td>\n",
       "      <td>1051.000000</td>\n",
       "      <td>0.000000</td>\n",
       "    </tr>\n",
       "    <tr>\n",
       "      <th>25%</th>\n",
       "      <td>0.210141</td>\n",
       "      <td>2.000000</td>\n",
       "      <td>25.000000</td>\n",
       "      <td>6112.000000</td>\n",
       "      <td>40.000000</td>\n",
       "      <td>1185.000000</td>\n",
       "      <td>0.000000</td>\n",
       "    </tr>\n",
       "    <tr>\n",
       "      <th>50%</th>\n",
       "      <td>0.573736</td>\n",
       "      <td>6.000000</td>\n",
       "      <td>32.000000</td>\n",
       "      <td>8794.000000</td>\n",
       "      <td>88.000000</td>\n",
       "      <td>1335.000000</td>\n",
       "      <td>2.000000</td>\n",
       "    </tr>\n",
       "    <tr>\n",
       "      <th>75%</th>\n",
       "      <td>1.039072</td>\n",
       "      <td>11.000000</td>\n",
       "      <td>38.000000</td>\n",
       "      <td>27003.000000</td>\n",
       "      <td>97.000000</td>\n",
       "      <td>1510.000000</td>\n",
       "      <td>3.000000</td>\n",
       "    </tr>\n",
       "    <tr>\n",
       "      <th>max</th>\n",
       "      <td>1.396641</td>\n",
       "      <td>39.000000</td>\n",
       "      <td>71.000000</td>\n",
       "      <td>73430.000000</td>\n",
       "      <td>118.000000</td>\n",
       "      <td>1720.000000</td>\n",
       "      <td>5.000000</td>\n",
       "    </tr>\n",
       "  </tbody>\n",
       "</table>\n",
       "</div>"
      ],
      "text/plain": [
       "       policy_tenure    age_of_car  age_of_policyholder  population_density  \\\n",
       "count   58578.000000  58578.000000         58578.000000        58578.000000   \n",
       "mean        0.611171      6.928830            32.816091        18829.204223   \n",
       "std         0.414156      5.593719             8.741687        17661.269782   \n",
       "min         0.002735      0.000000            20.000000          290.000000   \n",
       "25%         0.210141      2.000000            25.000000         6112.000000   \n",
       "50%         0.573736      6.000000            32.000000         8794.000000   \n",
       "75%         1.039072     11.000000            38.000000        27003.000000   \n",
       "max         1.396641     39.000000            71.000000        73430.000000   \n",
       "\n",
       "          max_power  gross_weight   ncap_rating  \n",
       "count  58578.000000  58578.000000  58578.000000  \n",
       "mean      78.486206   1385.248711      1.759859  \n",
       "std       27.673487    212.418667      1.389646  \n",
       "min       40.000000   1051.000000      0.000000  \n",
       "25%       40.000000   1185.000000      0.000000  \n",
       "50%       88.000000   1335.000000      2.000000  \n",
       "75%       97.000000   1510.000000      3.000000  \n",
       "max      118.000000   1720.000000      5.000000  "
      ]
     },
     "execution_count": 52,
     "metadata": {},
     "output_type": "execute_result"
    }
   ],
   "source": [
    "data.describe()"
   ]
  },
  {
   "cell_type": "markdown",
   "id": "254585ba",
   "metadata": {},
   "source": [
    "#### 7.How old are the oldest cars in the dataset?"
   ]
  },
  {
   "cell_type": "code",
   "execution_count": 37,
   "id": "b91bcf06",
   "metadata": {},
   "outputs": [
    {
     "data": {
      "text/plain": [
       "count    58578.000000\n",
       "mean        32.816091\n",
       "std          8.741687\n",
       "min         20.000000\n",
       "25%         25.000000\n",
       "50%         32.000000\n",
       "75%         38.000000\n",
       "max         71.000000\n",
       "Name: age_of_policyholder, dtype: float64"
      ]
     },
     "execution_count": 37,
     "metadata": {},
     "output_type": "execute_result"
    }
   ],
   "source": [
    "\n",
    "data['age_of_policyholder'].describe()"
   ]
  },
  {
   "cell_type": "markdown",
   "id": "4ae31833",
   "metadata": {},
   "source": [
    "#### 8.What is the youngest age of the policyholders?"
   ]
  },
  {
   "cell_type": "code",
   "execution_count": 51,
   "id": "a61219db",
   "metadata": {},
   "outputs": [
    {
     "data": {
      "text/plain": [
       "count    58578.000000\n",
       "mean        32.816091\n",
       "std          8.741687\n",
       "min         20.000000\n",
       "25%         25.000000\n",
       "50%         32.000000\n",
       "75%         38.000000\n",
       "max         71.000000\n",
       "Name: age_of_policyholder, dtype: float64"
      ]
     },
     "execution_count": 51,
     "metadata": {},
     "output_type": "execute_result"
    }
   ],
   "source": [
    "data['age_of_policyholder'].describe()"
   ]
  },
  {
   "cell_type": "code",
   "execution_count": 56,
   "id": "ba15dca5",
   "metadata": {},
   "outputs": [
    {
     "data": {
      "text/plain": [
       "fuel_type    CNG\n",
       "max_power     40\n",
       "Name: 0, dtype: object"
      ]
     },
     "execution_count": 56,
     "metadata": {},
     "output_type": "execute_result"
    }
   ],
   "source": [
    "data.loc[0,['fuel_type','max_power']]"
   ]
  },
  {
   "cell_type": "code",
   "execution_count": null,
   "id": "31d85654",
   "metadata": {},
   "outputs": [],
   "source": []
  }
 ],
 "metadata": {
  "kernelspec": {
   "display_name": "Python 3 (ipykernel)",
   "language": "python",
   "name": "python3"
  },
  "language_info": {
   "codemirror_mode": {
    "name": "ipython",
    "version": 3
   },
   "file_extension": ".py",
   "mimetype": "text/x-python",
   "name": "python",
   "nbconvert_exporter": "python",
   "pygments_lexer": "ipython3",
   "version": "3.9.13"
  }
 },
 "nbformat": 4,
 "nbformat_minor": 5
}
